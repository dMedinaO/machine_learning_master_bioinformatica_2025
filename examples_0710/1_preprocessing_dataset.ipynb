{
 "cells": [
  {
   "cell_type": "code",
   "execution_count": 1,
   "id": "18220004",
   "metadata": {},
   "outputs": [],
   "source": [
    "import warnings\n",
    "warnings.filterwarnings(\"ignore\")"
   ]
  },
  {
   "cell_type": "code",
   "execution_count": 2,
   "id": "46f9ef57",
   "metadata": {},
   "outputs": [],
   "source": [
    "import pandas as pd\n",
    "from modlamp.descriptors import GlobalDescriptor\n",
    "import numpy as np"
   ]
  },
  {
   "cell_type": "code",
   "execution_count": 3,
   "id": "4766846c",
   "metadata": {},
   "outputs": [],
   "source": [
    "def mw(sequence):\n",
    "    gd = GlobalDescriptor(sequence)\n",
    "    gd.calculate_MW(amide=True)\n",
    "    val = float(np.round(gd.descriptor[0], 5))\n",
    "    return val"
   ]
  },
  {
   "cell_type": "code",
   "execution_count": 4,
   "id": "5d88c62c",
   "metadata": {},
   "outputs": [],
   "source": [
    "def isoelectric_point(sequence):\n",
    "    gd = GlobalDescriptor(sequence)\n",
    "    gd.isoelectric_point(amide=True)\n",
    "    val = float(np.round(gd.descriptor[0], 5))\n",
    "    return val"
   ]
  },
  {
   "cell_type": "code",
   "execution_count": 5,
   "id": "9309cec0",
   "metadata": {},
   "outputs": [],
   "source": [
    "def charge_density(sequence):\n",
    "    gd = GlobalDescriptor(sequence)\n",
    "    gd.charge_density(amide=True)\n",
    "    val = float(np.round(gd.descriptor[0], 5))\n",
    "    return val"
   ]
  },
  {
   "cell_type": "code",
   "execution_count": 6,
   "id": "f85b4b45",
   "metadata": {},
   "outputs": [],
   "source": [
    "def instability_index(sequence):\n",
    "    gd = GlobalDescriptor(sequence)\n",
    "    gd.instability_index()\n",
    "    val = float(np.round(gd.descriptor[0], 5))\n",
    "    return val"
   ]
  },
  {
   "cell_type": "code",
   "execution_count": 7,
   "id": "61da7d44",
   "metadata": {},
   "outputs": [],
   "source": [
    "def boman_index(sequence):\n",
    "    gd = GlobalDescriptor(sequence)\n",
    "    gd.boman_index()\n",
    "    val = float(np.round(gd.descriptor[0], 5))\n",
    "    return val"
   ]
  },
  {
   "cell_type": "code",
   "execution_count": 8,
   "id": "33c1b02f",
   "metadata": {},
   "outputs": [],
   "source": [
    "def hydrophobic_ratio(sequence):\n",
    "    gd = GlobalDescriptor(sequence)\n",
    "    gd.hydrophobic_ratio()\n",
    "    val = float(np.round(gd.descriptor[0], 5))\n",
    "    return val"
   ]
  },
  {
   "cell_type": "code",
   "execution_count": 9,
   "id": "20cf2cbe",
   "metadata": {},
   "outputs": [
    {
     "data": {
      "text/plain": [
       "label\n",
       "0    10610\n",
       "1    10610\n",
       "Name: count, dtype: int64"
      ]
     },
     "execution_count": 9,
     "metadata": {},
     "output_type": "execute_result"
    }
   ],
   "source": [
    "df_data = pd.read_csv(\"../raw_data/demo_amp.csv\")\n",
    "df_data[\"label\"].value_counts()"
   ]
  },
  {
   "cell_type": "code",
   "execution_count": 10,
   "id": "53d18915",
   "metadata": {},
   "outputs": [],
   "source": [
    "df_data[\"mw\"] = df_data[\"sequence\"].apply(mw)"
   ]
  },
  {
   "cell_type": "code",
   "execution_count": 11,
   "id": "702a5067",
   "metadata": {},
   "outputs": [],
   "source": [
    "df_data[\"hydrophobic_ratio\"] = df_data[\"sequence\"].apply(hydrophobic_ratio)\n",
    "df_data[\"boman_index\"] = df_data[\"sequence\"].apply(boman_index)\n",
    "df_data[\"instability_index\"] = df_data[\"sequence\"].apply(instability_index)\n",
    "df_data[\"charge_density\"] = df_data[\"sequence\"].apply(charge_density)\n",
    "df_data[\"isoelectric_point\"] = df_data[\"sequence\"].apply(isoelectric_point)"
   ]
  },
  {
   "cell_type": "code",
   "execution_count": 12,
   "id": "a0a2d748",
   "metadata": {},
   "outputs": [
    {
     "data": {
      "text/html": [
       "<div>\n",
       "<style scoped>\n",
       "    .dataframe tbody tr th:only-of-type {\n",
       "        vertical-align: middle;\n",
       "    }\n",
       "\n",
       "    .dataframe tbody tr th {\n",
       "        vertical-align: top;\n",
       "    }\n",
       "\n",
       "    .dataframe thead th {\n",
       "        text-align: right;\n",
       "    }\n",
       "</style>\n",
       "<table border=\"1\" class=\"dataframe\">\n",
       "  <thead>\n",
       "    <tr style=\"text-align: right;\">\n",
       "      <th></th>\n",
       "      <th>sequence</th>\n",
       "      <th>label</th>\n",
       "      <th>mw</th>\n",
       "      <th>hydrophobic_ratio</th>\n",
       "      <th>boman_index</th>\n",
       "      <th>instability_index</th>\n",
       "      <th>charge_density</th>\n",
       "      <th>isoelectric_point</th>\n",
       "    </tr>\n",
       "  </thead>\n",
       "  <tbody>\n",
       "    <tr>\n",
       "      <th>0</th>\n",
       "      <td>QEDCELCINVACTGC</td>\n",
       "      <td>0</td>\n",
       "      <td>1599.84</td>\n",
       "      <td>0.53333</td>\n",
       "      <td>1.02267</td>\n",
       "      <td>80.38000</td>\n",
       "      <td>-0.00142</td>\n",
       "      <td>3.68750</td>\n",
       "    </tr>\n",
       "    <tr>\n",
       "      <th>1</th>\n",
       "      <td>MAATTTATSLFSSRLHFQNQNQGYGFPAKTPNSLQVNQIIDGRKMR...</td>\n",
       "      <td>0</td>\n",
       "      <td>5854.58</td>\n",
       "      <td>0.37037</td>\n",
       "      <td>1.77722</td>\n",
       "      <td>28.67963</td>\n",
       "      <td>0.00087</td>\n",
       "      <td>11.88379</td>\n",
       "    </tr>\n",
       "    <tr>\n",
       "      <th>2</th>\n",
       "      <td>SKGKKANKDVELARG</td>\n",
       "      <td>1</td>\n",
       "      <td>1599.84</td>\n",
       "      <td>0.26667</td>\n",
       "      <td>3.21533</td>\n",
       "      <td>8.14000</td>\n",
       "      <td>0.00250</td>\n",
       "      <td>11.10547</td>\n",
       "    </tr>\n",
       "    <tr>\n",
       "      <th>3</th>\n",
       "      <td>ADLEVVAATYVLVA</td>\n",
       "      <td>1</td>\n",
       "      <td>1432.67</td>\n",
       "      <td>0.71429</td>\n",
       "      <td>-1.07143</td>\n",
       "      <td>3.22143</td>\n",
       "      <td>-0.00070</td>\n",
       "      <td>3.92969</td>\n",
       "    </tr>\n",
       "    <tr>\n",
       "      <th>4</th>\n",
       "      <td>MAESPSESTSDSLSTTTSTKPAQSGTVSISSPQSHHVVFPEIPIEIVS</td>\n",
       "      <td>0</td>\n",
       "      <td>4971.40</td>\n",
       "      <td>0.27083</td>\n",
       "      <td>1.47667</td>\n",
       "      <td>100.18333</td>\n",
       "      <td>-0.00056</td>\n",
       "      <td>4.64307</td>\n",
       "    </tr>\n",
       "  </tbody>\n",
       "</table>\n",
       "</div>"
      ],
      "text/plain": [
       "                                            sequence  label       mw  \\\n",
       "0                                    QEDCELCINVACTGC      0  1599.84   \n",
       "1  MAATTTATSLFSSRLHFQNQNQGYGFPAKTPNSLQVNQIIDGRKMR...      0  5854.58   \n",
       "2                                    SKGKKANKDVELARG      1  1599.84   \n",
       "3                                     ADLEVVAATYVLVA      1  1432.67   \n",
       "4   MAESPSESTSDSLSTTTSTKPAQSGTVSISSPQSHHVVFPEIPIEIVS      0  4971.40   \n",
       "\n",
       "   hydrophobic_ratio  boman_index  instability_index  charge_density  \\\n",
       "0            0.53333      1.02267           80.38000        -0.00142   \n",
       "1            0.37037      1.77722           28.67963         0.00087   \n",
       "2            0.26667      3.21533            8.14000         0.00250   \n",
       "3            0.71429     -1.07143            3.22143        -0.00070   \n",
       "4            0.27083      1.47667          100.18333        -0.00056   \n",
       "\n",
       "   isoelectric_point  \n",
       "0            3.68750  \n",
       "1           11.88379  \n",
       "2           11.10547  \n",
       "3            3.92969  \n",
       "4            4.64307  "
      ]
     },
     "execution_count": 12,
     "metadata": {},
     "output_type": "execute_result"
    }
   ],
   "source": [
    "df_data.head(5)"
   ]
  },
  {
   "cell_type": "code",
   "execution_count": 13,
   "id": "b8ae6101",
   "metadata": {},
   "outputs": [
    {
     "data": {
      "text/plain": [
       "Index(['sequence', 'label', 'mw', 'hydrophobic_ratio', 'boman_index',\n",
       "       'instability_index', 'charge_density', 'isoelectric_point'],\n",
       "      dtype='object')"
      ]
     },
     "execution_count": 13,
     "metadata": {},
     "output_type": "execute_result"
    }
   ],
   "source": [
    "df_data.columns"
   ]
  },
  {
   "cell_type": "markdown",
   "id": "1234d666",
   "metadata": {},
   "source": [
    "- Dataset con secuencias\n",
    "- Descripcion de las secuencias\n",
    "- División en datasets de entrenamiento, validación y testeo\n",
    "- Aplicación de transformaciones, etc..."
   ]
  },
  {
   "cell_type": "code",
   "execution_count": 14,
   "id": "5ca5779b",
   "metadata": {},
   "outputs": [],
   "source": [
    "from sklearn.model_selection import train_test_split"
   ]
  },
  {
   "cell_type": "code",
   "execution_count": 15,
   "id": "4ba0d073",
   "metadata": {},
   "outputs": [],
   "source": [
    "X = df_data.drop(columns=['sequence', 'label'])\n",
    "y = df_data[\"label\"]"
   ]
  },
  {
   "cell_type": "code",
   "execution_count": 16,
   "id": "13151c4a",
   "metadata": {},
   "outputs": [],
   "source": [
    "X_train, X_test, y_train, y_test = train_test_split(\n",
    "    X, \n",
    "    y, \n",
    "    test_size=.1, \n",
    "    random_state=42)\n",
    "\n",
    "X_train, X_val, y_train, y_val = train_test_split(\n",
    "    X_train, \n",
    "    y_train, \n",
    "    test_size=.2, \n",
    "    random_state=42)"
   ]
  },
  {
   "cell_type": "code",
   "execution_count": 17,
   "id": "f2a0068e",
   "metadata": {},
   "outputs": [],
   "source": [
    "from sklearn.preprocessing import StandardScaler"
   ]
  },
  {
   "cell_type": "code",
   "execution_count": 18,
   "id": "b1bef3ef",
   "metadata": {},
   "outputs": [],
   "source": [
    "scaler = StandardScaler()\n",
    "scaler.fit(X_train)\n",
    "X_train = scaler.transform(X_train)"
   ]
  },
  {
   "cell_type": "code",
   "execution_count": 19,
   "id": "5644e81f",
   "metadata": {},
   "outputs": [
    {
     "name": "stdout",
     "output_type": "stream",
     "text": [
      "(15278, 6) (3820, 6) (2122, 6)\n"
     ]
    }
   ],
   "source": [
    "print(X_train.shape, X_val.shape, X_test.shape)"
   ]
  },
  {
   "cell_type": "code",
   "execution_count": 20,
   "id": "93415231",
   "metadata": {},
   "outputs": [
    {
     "data": {
      "text/plain": [
       "['../model_amp/model_0710/scaler.joblib']"
      ]
     },
     "execution_count": 20,
     "metadata": {},
     "output_type": "execute_result"
    }
   ],
   "source": [
    "from joblib import dump\n",
    "dump(scaler, \"../model_amp/model_0710/scaler.joblib\")"
   ]
  },
  {
   "cell_type": "code",
   "execution_count": 21,
   "id": "1c62cb3c",
   "metadata": {},
   "outputs": [],
   "source": [
    "X_train = pd.DataFrame(data=X_train, columns=['mw', 'hydrophobic_ratio', 'boman_index',\n",
    "       'instability_index', 'charge_density', 'isoelectric_point'])\n",
    "\n",
    "X_train[\"label\"] = y_train.values\n",
    "X_val[\"label\"] = y_val.values\n",
    "X_test[\"label\"] = y_test.values\n"
   ]
  },
  {
   "cell_type": "code",
   "execution_count": 22,
   "id": "4a369910",
   "metadata": {},
   "outputs": [],
   "source": [
    "X_train.to_csv(\"../model_amp/model_0710/X_train.csv\", index=False)\n",
    "X_val.to_csv(\"../model_amp/model_0710/X_val.csv\", index=False)\n",
    "X_test.to_csv(\"../model_amp/model_0710/X_test.csv\", index=False)"
   ]
  }
 ],
 "metadata": {
  "kernelspec": {
   "display_name": "machine_learning_2025",
   "language": "python",
   "name": "python3"
  },
  "language_info": {
   "codemirror_mode": {
    "name": "ipython",
    "version": 3
   },
   "file_extension": ".py",
   "mimetype": "text/x-python",
   "name": "python",
   "nbconvert_exporter": "python",
   "pygments_lexer": "ipython3",
   "version": "3.13.5"
  }
 },
 "nbformat": 4,
 "nbformat_minor": 5
}
