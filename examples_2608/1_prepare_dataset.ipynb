{
 "cells": [
  {
   "cell_type": "markdown",
   "id": "c9f77aa5",
   "metadata": {},
   "source": [
    "### Este notebook nos facilitará la codificación o caracterización por propiedades de las secuencias\n",
    "\n",
    "Este notebook hace:\n",
    "\n",
    "1. Lee el dataset de secuencias\n",
    "2. Maneja las secuencias y extrae random de cada clase\n",
    "3. Caracteriza las secuencias usando propiedades fisicoquímicas"
   ]
  },
  {
   "cell_type": "code",
   "execution_count": 1,
   "id": "2e9ea636",
   "metadata": {},
   "outputs": [
    {
     "name": "stdout",
     "output_type": "stream",
     "text": [
      "Requirement already satisfied: pandas in /home/david/miniconda3/envs/machine_learning_2025/lib/python3.13/site-packages (2.3.2)\n",
      "Requirement already satisfied: modlamp in /home/david/miniconda3/envs/machine_learning_2025/lib/python3.13/site-packages (4.3.2)\n",
      "Requirement already satisfied: numpy>=1.26.0 in /home/david/miniconda3/envs/machine_learning_2025/lib/python3.13/site-packages (from pandas) (2.3.2)\n",
      "Requirement already satisfied: python-dateutil>=2.8.2 in /home/david/miniconda3/envs/machine_learning_2025/lib/python3.13/site-packages (from pandas) (2.9.0.post0)\n",
      "Requirement already satisfied: pytz>=2020.1 in /home/david/miniconda3/envs/machine_learning_2025/lib/python3.13/site-packages (from pandas) (2025.2)\n",
      "Requirement already satisfied: tzdata>=2022.7 in /home/david/miniconda3/envs/machine_learning_2025/lib/python3.13/site-packages (from pandas) (2025.2)\n",
      "Requirement already satisfied: setuptools>=20.2.2 in /home/david/miniconda3/envs/machine_learning_2025/lib/python3.13/site-packages (from modlamp) (78.1.1)\n",
      "Requirement already satisfied: nose>=1.3.7 in /home/david/miniconda3/envs/machine_learning_2025/lib/python3.13/site-packages (from modlamp) (1.3.7)\n",
      "Requirement already satisfied: scipy>=0.17.0 in /home/david/miniconda3/envs/machine_learning_2025/lib/python3.13/site-packages (from modlamp) (1.16.1)\n",
      "Requirement already satisfied: matplotlib>=1.5.1 in /home/david/miniconda3/envs/machine_learning_2025/lib/python3.13/site-packages (from modlamp) (3.10.5)\n",
      "Requirement already satisfied: scikit-learn>=0.18.0 in /home/david/miniconda3/envs/machine_learning_2025/lib/python3.13/site-packages (from modlamp) (1.7.1)\n",
      "Requirement already satisfied: requests>=2.11.1 in /home/david/miniconda3/envs/machine_learning_2025/lib/python3.13/site-packages (from modlamp) (2.32.5)\n",
      "Requirement already satisfied: lxml>=3.6.4 in /home/david/miniconda3/envs/machine_learning_2025/lib/python3.13/site-packages (from modlamp) (6.0.1)\n",
      "Requirement already satisfied: joblib>=0.15.1 in /home/david/miniconda3/envs/machine_learning_2025/lib/python3.13/site-packages (from modlamp) (1.5.1)\n",
      "Requirement already satisfied: mysql-connector-python>=8.0 in /home/david/miniconda3/envs/machine_learning_2025/lib/python3.13/site-packages (from modlamp) (9.4.0)\n",
      "Requirement already satisfied: contourpy>=1.0.1 in /home/david/miniconda3/envs/machine_learning_2025/lib/python3.13/site-packages (from matplotlib>=1.5.1->modlamp) (1.3.3)\n",
      "Requirement already satisfied: cycler>=0.10 in /home/david/miniconda3/envs/machine_learning_2025/lib/python3.13/site-packages (from matplotlib>=1.5.1->modlamp) (0.12.1)\n",
      "Requirement already satisfied: fonttools>=4.22.0 in /home/david/miniconda3/envs/machine_learning_2025/lib/python3.13/site-packages (from matplotlib>=1.5.1->modlamp) (4.59.1)\n",
      "Requirement already satisfied: kiwisolver>=1.3.1 in /home/david/miniconda3/envs/machine_learning_2025/lib/python3.13/site-packages (from matplotlib>=1.5.1->modlamp) (1.4.9)\n",
      "Requirement already satisfied: packaging>=20.0 in /home/david/miniconda3/envs/machine_learning_2025/lib/python3.13/site-packages (from matplotlib>=1.5.1->modlamp) (25.0)\n",
      "Requirement already satisfied: pillow>=8 in /home/david/miniconda3/envs/machine_learning_2025/lib/python3.13/site-packages (from matplotlib>=1.5.1->modlamp) (11.3.0)\n",
      "Requirement already satisfied: pyparsing>=2.3.1 in /home/david/miniconda3/envs/machine_learning_2025/lib/python3.13/site-packages (from matplotlib>=1.5.1->modlamp) (3.2.3)\n",
      "Requirement already satisfied: six>=1.5 in /home/david/miniconda3/envs/machine_learning_2025/lib/python3.13/site-packages (from python-dateutil>=2.8.2->pandas) (1.17.0)\n",
      "Requirement already satisfied: charset_normalizer<4,>=2 in /home/david/miniconda3/envs/machine_learning_2025/lib/python3.13/site-packages (from requests>=2.11.1->modlamp) (3.4.3)\n",
      "Requirement already satisfied: idna<4,>=2.5 in /home/david/miniconda3/envs/machine_learning_2025/lib/python3.13/site-packages (from requests>=2.11.1->modlamp) (3.10)\n",
      "Requirement already satisfied: urllib3<3,>=1.21.1 in /home/david/miniconda3/envs/machine_learning_2025/lib/python3.13/site-packages (from requests>=2.11.1->modlamp) (2.5.0)\n",
      "Requirement already satisfied: certifi>=2017.4.17 in /home/david/miniconda3/envs/machine_learning_2025/lib/python3.13/site-packages (from requests>=2.11.1->modlamp) (2025.8.3)\n",
      "Requirement already satisfied: threadpoolctl>=3.1.0 in /home/david/miniconda3/envs/machine_learning_2025/lib/python3.13/site-packages (from scikit-learn>=0.18.0->modlamp) (3.6.0)\n",
      "Note: you may need to restart the kernel to use updated packages.\n"
     ]
    }
   ],
   "source": [
    "pip install pandas modlamp"
   ]
  },
  {
   "cell_type": "markdown",
   "id": "fce2955c",
   "metadata": {},
   "source": [
    "- Seccion import libraries/modules"
   ]
  },
  {
   "cell_type": "code",
   "execution_count": 2,
   "id": "39813cae",
   "metadata": {},
   "outputs": [],
   "source": [
    "import pandas as pd\n",
    "import numpy as np\n",
    "from modlamp.descriptors import GlobalDescriptor"
   ]
  },
  {
   "cell_type": "markdown",
   "id": "b877dcde",
   "metadata": {},
   "source": [
    "- Seccion de implementación de funciones auxiliares"
   ]
  },
  {
   "cell_type": "code",
   "execution_count": 3,
   "id": "66961f08",
   "metadata": {},
   "outputs": [],
   "source": [
    "def mw(sequence):\n",
    "    gd = GlobalDescriptor([sequence])\n",
    "    gd.calculate_MW(amide=True)\n",
    "    val = float(np.round(gd.descriptor[0][0], 5))\n",
    "    return val"
   ]
  },
  {
   "cell_type": "code",
   "execution_count": 4,
   "id": "88deef1d",
   "metadata": {},
   "outputs": [],
   "source": [
    "def isoelectric_point(sequence):\n",
    "    gd = GlobalDescriptor([sequence])\n",
    "    gd.isoelectric_point(amide=True)\n",
    "    val = float(np.round(gd.descriptor[0][0], 5))\n",
    "    return val"
   ]
  },
  {
   "cell_type": "code",
   "execution_count": 5,
   "id": "43583b5e",
   "metadata": {},
   "outputs": [],
   "source": [
    "def charge_density(sequence):\n",
    "    gd = GlobalDescriptor([sequence])\n",
    "    gd.charge_density(amide=True)\n",
    "    val = float(np.round(gd.descriptor[0][0], 5))\n",
    "    return val"
   ]
  },
  {
   "cell_type": "code",
   "execution_count": 6,
   "id": "0f03534d",
   "metadata": {},
   "outputs": [],
   "source": [
    "def instability_index(sequence):\n",
    "    gd = GlobalDescriptor([sequence])\n",
    "    gd.instability_index()\n",
    "    val = float(np.round(gd.descriptor[0][0], 5))\n",
    "    return val"
   ]
  },
  {
   "cell_type": "code",
   "execution_count": 7,
   "id": "6a0f98ca",
   "metadata": {},
   "outputs": [],
   "source": [
    "def boman_index(sequence):\n",
    "    gd = GlobalDescriptor([sequence])\n",
    "    gd.boman_index()\n",
    "    val = float(np.round(gd.descriptor[0][0], 5))\n",
    "    return val"
   ]
  },
  {
   "cell_type": "code",
   "execution_count": 8,
   "id": "e3e119d2",
   "metadata": {},
   "outputs": [],
   "source": [
    "def hydrophobic_ratio(sequence):\n",
    "    gd = GlobalDescriptor([sequence])\n",
    "    gd.hydrophobic_ratio()\n",
    "    val = float(np.round(gd.descriptor[0][0], 5))\n",
    "    return val"
   ]
  },
  {
   "cell_type": "code",
   "execution_count": 9,
   "id": "a005c7d6",
   "metadata": {},
   "outputs": [
    {
     "data": {
      "text/html": [
       "<div>\n",
       "<style scoped>\n",
       "    .dataframe tbody tr th:only-of-type {\n",
       "        vertical-align: middle;\n",
       "    }\n",
       "\n",
       "    .dataframe tbody tr th {\n",
       "        vertical-align: top;\n",
       "    }\n",
       "\n",
       "    .dataframe thead th {\n",
       "        text-align: right;\n",
       "    }\n",
       "</style>\n",
       "<table border=\"1\" class=\"dataframe\">\n",
       "  <thead>\n",
       "    <tr style=\"text-align: right;\">\n",
       "      <th></th>\n",
       "      <th>sequence</th>\n",
       "      <th>label</th>\n",
       "    </tr>\n",
       "  </thead>\n",
       "  <tbody>\n",
       "    <tr>\n",
       "      <th>0</th>\n",
       "      <td>QEDCELCINVACTGC</td>\n",
       "      <td>0</td>\n",
       "    </tr>\n",
       "    <tr>\n",
       "      <th>1</th>\n",
       "      <td>MAATTTATSLFSSRLHFQNQNQGYGFPAKTPNSLQVNQIIDGRKMR...</td>\n",
       "      <td>0</td>\n",
       "    </tr>\n",
       "    <tr>\n",
       "      <th>2</th>\n",
       "      <td>SKGKKANKDVELARG</td>\n",
       "      <td>1</td>\n",
       "    </tr>\n",
       "    <tr>\n",
       "      <th>3</th>\n",
       "      <td>ADLEVVAATYVLVA</td>\n",
       "      <td>1</td>\n",
       "    </tr>\n",
       "    <tr>\n",
       "      <th>4</th>\n",
       "      <td>MAESPSESTSDSLSTTTSTKPAQSGTVSISSPQSHHVVFPEIPIEIVS</td>\n",
       "      <td>0</td>\n",
       "    </tr>\n",
       "  </tbody>\n",
       "</table>\n",
       "</div>"
      ],
      "text/plain": [
       "                                            sequence  label\n",
       "0                                    QEDCELCINVACTGC      0\n",
       "1  MAATTTATSLFSSRLHFQNQNQGYGFPAKTPNSLQVNQIIDGRKMR...      0\n",
       "2                                    SKGKKANKDVELARG      1\n",
       "3                                     ADLEVVAATYVLVA      1\n",
       "4   MAESPSESTSDSLSTTTSTKPAQSGTVSISSPQSHHVVFPEIPIEIVS      0"
      ]
     },
     "execution_count": 9,
     "metadata": {},
     "output_type": "execute_result"
    }
   ],
   "source": [
    "df = pd.read_csv(\"../raw_data/demo_amp.csv\")\n",
    "df.head(5)"
   ]
  },
  {
   "cell_type": "code",
   "execution_count": 10,
   "id": "62570d6e",
   "metadata": {},
   "outputs": [
    {
     "data": {
      "text/plain": [
       "(21220, 2)"
      ]
     },
     "execution_count": 10,
     "metadata": {},
     "output_type": "execute_result"
    }
   ],
   "source": [
    "df.shape"
   ]
  },
  {
   "cell_type": "code",
   "execution_count": 11,
   "id": "aca8ceff",
   "metadata": {},
   "outputs": [
    {
     "data": {
      "text/plain": [
       "label\n",
       "0    10610\n",
       "1    10610\n",
       "Name: count, dtype: int64"
      ]
     },
     "execution_count": 11,
     "metadata": {},
     "output_type": "execute_result"
    }
   ],
   "source": [
    "df[\"label\"].value_counts()"
   ]
  },
  {
   "cell_type": "code",
   "execution_count": 12,
   "id": "5d92633d",
   "metadata": {},
   "outputs": [
    {
     "data": {
      "text/html": [
       "<div>\n",
       "<style scoped>\n",
       "    .dataframe tbody tr th:only-of-type {\n",
       "        vertical-align: middle;\n",
       "    }\n",
       "\n",
       "    .dataframe tbody tr th {\n",
       "        vertical-align: top;\n",
       "    }\n",
       "\n",
       "    .dataframe thead th {\n",
       "        text-align: right;\n",
       "    }\n",
       "</style>\n",
       "<table border=\"1\" class=\"dataframe\">\n",
       "  <thead>\n",
       "    <tr style=\"text-align: right;\">\n",
       "      <th></th>\n",
       "      <th>sequence</th>\n",
       "      <th>label</th>\n",
       "    </tr>\n",
       "  </thead>\n",
       "  <tbody>\n",
       "    <tr>\n",
       "      <th>0</th>\n",
       "      <td>QEDCELCINVACTGC</td>\n",
       "      <td>0</td>\n",
       "    </tr>\n",
       "    <tr>\n",
       "      <th>1</th>\n",
       "      <td>MAATTTATSLFSSRLHFQNQNQGYGFPAKTPNSLQVNQIIDGRKMR...</td>\n",
       "      <td>0</td>\n",
       "    </tr>\n",
       "    <tr>\n",
       "      <th>2</th>\n",
       "      <td>SKGKKANKDVELARG</td>\n",
       "      <td>1</td>\n",
       "    </tr>\n",
       "    <tr>\n",
       "      <th>3</th>\n",
       "      <td>ADLEVVAATYVLVA</td>\n",
       "      <td>1</td>\n",
       "    </tr>\n",
       "    <tr>\n",
       "      <th>4</th>\n",
       "      <td>MAESPSESTSDSLSTTTSTKPAQSGTVSISSPQSHHVVFPEIPIEIVS</td>\n",
       "      <td>0</td>\n",
       "    </tr>\n",
       "    <tr>\n",
       "      <th>5</th>\n",
       "      <td>MLRFTHVLNNGAKRSALSLGRSYLRGFGSMHGPRVA</td>\n",
       "      <td>0</td>\n",
       "    </tr>\n",
       "    <tr>\n",
       "      <th>6</th>\n",
       "      <td>MFRRAAFIKPRLTGFIRFN</td>\n",
       "      <td>0</td>\n",
       "    </tr>\n",
       "    <tr>\n",
       "      <th>7</th>\n",
       "      <td>ISIGIKCSPSIDLCEGQCRIRKYFTGYCSGDTCHCSG</td>\n",
       "      <td>0</td>\n",
       "    </tr>\n",
       "    <tr>\n",
       "      <th>8</th>\n",
       "      <td>AISCGQVSSALSPCISYARGNGAKPPVACCSGVKRLAGAAQSTADK...</td>\n",
       "      <td>1</td>\n",
       "    </tr>\n",
       "    <tr>\n",
       "      <th>9</th>\n",
       "      <td>STQEVSGHPEHHLV</td>\n",
       "      <td>0</td>\n",
       "    </tr>\n",
       "  </tbody>\n",
       "</table>\n",
       "</div>"
      ],
      "text/plain": [
       "                                            sequence  label\n",
       "0                                    QEDCELCINVACTGC      0\n",
       "1  MAATTTATSLFSSRLHFQNQNQGYGFPAKTPNSLQVNQIIDGRKMR...      0\n",
       "2                                    SKGKKANKDVELARG      1\n",
       "3                                     ADLEVVAATYVLVA      1\n",
       "4   MAESPSESTSDSLSTTTSTKPAQSGTVSISSPQSHHVVFPEIPIEIVS      0\n",
       "5               MLRFTHVLNNGAKRSALSLGRSYLRGFGSMHGPRVA      0\n",
       "6                                MFRRAAFIKPRLTGFIRFN      0\n",
       "7              ISIGIKCSPSIDLCEGQCRIRKYFTGYCSGDTCHCSG      0\n",
       "8  AISCGQVSSALSPCISYARGNGAKPPVACCSGVKRLAGAAQSTADK...      1\n",
       "9                                     STQEVSGHPEHHLV      0"
      ]
     },
     "execution_count": 12,
     "metadata": {},
     "output_type": "execute_result"
    }
   ],
   "source": [
    "df[:10]"
   ]
  },
  {
   "cell_type": "code",
   "execution_count": 13,
   "id": "84599439",
   "metadata": {},
   "outputs": [
    {
     "data": {
      "text/html": [
       "<div>\n",
       "<style scoped>\n",
       "    .dataframe tbody tr th:only-of-type {\n",
       "        vertical-align: middle;\n",
       "    }\n",
       "\n",
       "    .dataframe tbody tr th {\n",
       "        vertical-align: top;\n",
       "    }\n",
       "\n",
       "    .dataframe thead th {\n",
       "        text-align: right;\n",
       "    }\n",
       "</style>\n",
       "<table border=\"1\" class=\"dataframe\">\n",
       "  <thead>\n",
       "    <tr style=\"text-align: right;\">\n",
       "      <th></th>\n",
       "      <th>mw</th>\n",
       "      <th>charge_density</th>\n",
       "      <th>hydrophobic_ratio</th>\n",
       "    </tr>\n",
       "  </thead>\n",
       "  <tbody>\n",
       "    <tr>\n",
       "      <th>0</th>\n",
       "      <td>1599.84</td>\n",
       "      <td>-0.00142</td>\n",
       "      <td>0.53333</td>\n",
       "    </tr>\n",
       "    <tr>\n",
       "      <th>1</th>\n",
       "      <td>5854.58</td>\n",
       "      <td>0.00087</td>\n",
       "      <td>0.37037</td>\n",
       "    </tr>\n",
       "    <tr>\n",
       "      <th>2</th>\n",
       "      <td>1599.84</td>\n",
       "      <td>0.00250</td>\n",
       "      <td>0.26667</td>\n",
       "    </tr>\n",
       "    <tr>\n",
       "      <th>3</th>\n",
       "      <td>1432.67</td>\n",
       "      <td>-0.00070</td>\n",
       "      <td>0.71429</td>\n",
       "    </tr>\n",
       "    <tr>\n",
       "      <th>4</th>\n",
       "      <td>4971.40</td>\n",
       "      <td>-0.00056</td>\n",
       "      <td>0.27083</td>\n",
       "    </tr>\n",
       "    <tr>\n",
       "      <th>...</th>\n",
       "      <td>...</td>\n",
       "      <td>...</td>\n",
       "      <td>...</td>\n",
       "    </tr>\n",
       "    <tr>\n",
       "      <th>21215</th>\n",
       "      <td>5109.73</td>\n",
       "      <td>-0.00076</td>\n",
       "      <td>0.39583</td>\n",
       "    </tr>\n",
       "    <tr>\n",
       "      <th>21216</th>\n",
       "      <td>3794.47</td>\n",
       "      <td>0.00134</td>\n",
       "      <td>0.44118</td>\n",
       "    </tr>\n",
       "    <tr>\n",
       "      <th>21217</th>\n",
       "      <td>2823.28</td>\n",
       "      <td>-0.00121</td>\n",
       "      <td>0.57692</td>\n",
       "    </tr>\n",
       "    <tr>\n",
       "      <th>21218</th>\n",
       "      <td>2991.63</td>\n",
       "      <td>0.00064</td>\n",
       "      <td>0.53571</td>\n",
       "    </tr>\n",
       "    <tr>\n",
       "      <th>21219</th>\n",
       "      <td>1912.64</td>\n",
       "      <td>0.00411</td>\n",
       "      <td>0.56250</td>\n",
       "    </tr>\n",
       "  </tbody>\n",
       "</table>\n",
       "<p>21220 rows × 3 columns</p>\n",
       "</div>"
      ],
      "text/plain": [
       "            mw  charge_density  hydrophobic_ratio\n",
       "0      1599.84        -0.00142            0.53333\n",
       "1      5854.58         0.00087            0.37037\n",
       "2      1599.84         0.00250            0.26667\n",
       "3      1432.67        -0.00070            0.71429\n",
       "4      4971.40        -0.00056            0.27083\n",
       "...        ...             ...                ...\n",
       "21215  5109.73        -0.00076            0.39583\n",
       "21216  3794.47         0.00134            0.44118\n",
       "21217  2823.28        -0.00121            0.57692\n",
       "21218  2991.63         0.00064            0.53571\n",
       "21219  1912.64         0.00411            0.56250\n",
       "\n",
       "[21220 rows x 3 columns]"
      ]
     },
     "execution_count": 13,
     "metadata": {},
     "output_type": "execute_result"
    }
   ],
   "source": [
    "matrix_data = []\n",
    "\n",
    "for sequence in df[\"sequence\"].values:\n",
    "    row = [\n",
    "        mw(sequence),\n",
    "        charge_density(sequence),\n",
    "        hydrophobic_ratio(sequence)\n",
    "    ]\n",
    "    matrix_data.append(row)\n",
    "\n",
    "df_1 = pd.DataFrame(data=matrix_data, columns=[\"mw\", \"charge_density\", \"hydrophobic_ratio\"])\n",
    "df_1"
   ]
  },
  {
   "cell_type": "code",
   "execution_count": 14,
   "id": "3af63dfa",
   "metadata": {},
   "outputs": [
    {
     "data": {
      "text/html": [
       "<div>\n",
       "<style scoped>\n",
       "    .dataframe tbody tr th:only-of-type {\n",
       "        vertical-align: middle;\n",
       "    }\n",
       "\n",
       "    .dataframe tbody tr th {\n",
       "        vertical-align: top;\n",
       "    }\n",
       "\n",
       "    .dataframe thead th {\n",
       "        text-align: right;\n",
       "    }\n",
       "</style>\n",
       "<table border=\"1\" class=\"dataframe\">\n",
       "  <thead>\n",
       "    <tr style=\"text-align: right;\">\n",
       "      <th></th>\n",
       "      <th>sequence</th>\n",
       "      <th>label</th>\n",
       "      <th>mw</th>\n",
       "      <th>charge_density</th>\n",
       "      <th>hydrophobic_ratio</th>\n",
       "    </tr>\n",
       "  </thead>\n",
       "  <tbody>\n",
       "    <tr>\n",
       "      <th>0</th>\n",
       "      <td>QEDCELCINVACTGC</td>\n",
       "      <td>0</td>\n",
       "      <td>1599.84</td>\n",
       "      <td>-0.00142</td>\n",
       "      <td>0.53333</td>\n",
       "    </tr>\n",
       "    <tr>\n",
       "      <th>1</th>\n",
       "      <td>MAATTTATSLFSSRLHFQNQNQGYGFPAKTPNSLQVNQIIDGRKMR...</td>\n",
       "      <td>0</td>\n",
       "      <td>5854.58</td>\n",
       "      <td>0.00087</td>\n",
       "      <td>0.37037</td>\n",
       "    </tr>\n",
       "    <tr>\n",
       "      <th>2</th>\n",
       "      <td>SKGKKANKDVELARG</td>\n",
       "      <td>1</td>\n",
       "      <td>1599.84</td>\n",
       "      <td>0.00250</td>\n",
       "      <td>0.26667</td>\n",
       "    </tr>\n",
       "    <tr>\n",
       "      <th>3</th>\n",
       "      <td>ADLEVVAATYVLVA</td>\n",
       "      <td>1</td>\n",
       "      <td>1432.67</td>\n",
       "      <td>-0.00070</td>\n",
       "      <td>0.71429</td>\n",
       "    </tr>\n",
       "    <tr>\n",
       "      <th>4</th>\n",
       "      <td>MAESPSESTSDSLSTTTSTKPAQSGTVSISSPQSHHVVFPEIPIEIVS</td>\n",
       "      <td>0</td>\n",
       "      <td>4971.40</td>\n",
       "      <td>-0.00056</td>\n",
       "      <td>0.27083</td>\n",
       "    </tr>\n",
       "  </tbody>\n",
       "</table>\n",
       "</div>"
      ],
      "text/plain": [
       "                                            sequence  label       mw  \\\n",
       "0                                    QEDCELCINVACTGC      0  1599.84   \n",
       "1  MAATTTATSLFSSRLHFQNQNQGYGFPAKTPNSLQVNQIIDGRKMR...      0  5854.58   \n",
       "2                                    SKGKKANKDVELARG      1  1599.84   \n",
       "3                                     ADLEVVAATYVLVA      1  1432.67   \n",
       "4   MAESPSESTSDSLSTTTSTKPAQSGTVSISSPQSHHVVFPEIPIEIVS      0  4971.40   \n",
       "\n",
       "   charge_density  hydrophobic_ratio  \n",
       "0        -0.00142            0.53333  \n",
       "1         0.00087            0.37037  \n",
       "2         0.00250            0.26667  \n",
       "3        -0.00070            0.71429  \n",
       "4        -0.00056            0.27083  "
      ]
     },
     "execution_count": 14,
     "metadata": {},
     "output_type": "execute_result"
    }
   ],
   "source": [
    "df = pd.concat([df, df_1], axis=1)\n",
    "df.head(5)"
   ]
  },
  {
   "cell_type": "code",
   "execution_count": 15,
   "id": "ad762653",
   "metadata": {},
   "outputs": [],
   "source": [
    "df[\"boman_index\"] = df[\"sequence\"].apply(boman_index)\n",
    "df[\"isoelectric_point\"] = df[\"sequence\"].apply(isoelectric_point)\n",
    "df[\"instability_index\"] = df[\"sequence\"].apply(instability_index)"
   ]
  },
  {
   "cell_type": "code",
   "execution_count": 16,
   "id": "704ff9ad",
   "metadata": {},
   "outputs": [],
   "source": [
    "df.to_csv(\"../results/procesed_data.csv\", index=False)"
   ]
  }
 ],
 "metadata": {
  "kernelspec": {
   "display_name": "machine_learning_2025",
   "language": "python",
   "name": "python3"
  },
  "language_info": {
   "codemirror_mode": {
    "name": "ipython",
    "version": 3
   },
   "file_extension": ".py",
   "mimetype": "text/x-python",
   "name": "python",
   "nbconvert_exporter": "python",
   "pygments_lexer": "ipython3",
   "version": "3.13.5"
  }
 },
 "nbformat": 4,
 "nbformat_minor": 5
}
